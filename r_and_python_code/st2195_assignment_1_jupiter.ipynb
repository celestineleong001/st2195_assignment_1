{
 "cells": [
  {
   "cell_type": "markdown",
   "id": "d9c568d0",
   "metadata": {},
   "source": []
  },
  {
   "cell_type": "markdown",
   "id": "c81b0884",
   "metadata": {},
   "source": [
    "# Assignment 1\n",
    "\n",
    "This repository contains the code for Assignment 1.\n",
    "\n",
    "## Instructions\n",
    "\n",
    "1. A folder called \"r_studio\" contains an R Studio project.\n",
    "2. Inside the \"r_studio\" project, you'll find an R script (print_integers.R) that prints integers from 1 to 10 to the screen using a for loop.\n",
    "\n",
    "3. A folder called \"spyder\" contains a Spyder project.\n",
    "4. Inside the \"spyder\" project, you'll find a Python script (print_integers.py) that prints integers from 1 to 10 to the screen using a for loop.\n",
    "\n",
    "5. A folder called \"r_and_python_code\" contains both an R Markdown file (st2195_assignment_1.Rmd) and a Jupyter notebook (st2195_assignment_1.ipynb).\n",
    "6. These files include introductory markdown comments and code cells for the R (point 2) and Python (point 3) assignments.\n",
    "\n",
    "7. You can also find the generated HTML files for the R Markdown and Jupyter notebook in the \"generated_html\" folder.\n",
    "\n",
    "Feel free to explore and use the code as needed for your assignment."
   ]
  },
  {
   "cell_type": "code",
   "execution_count": 4,
   "id": "c037350f",
   "metadata": {},
   "outputs": [
    {
     "name": "stdout",
     "output_type": "stream",
     "text": [
      "1\n",
      "2\n",
      "3\n",
      "4\n",
      "5\n",
      "6\n",
      "7\n",
      "8\n",
      "9\n",
      "10\n"
     ]
    }
   ],
   "source": [
    "# Python code to print integers from 1 to 10\n",
    "for i in range(1, 11):\n",
    "    print(i)"
   ]
  },
  {
   "cell_type": "code",
   "execution_count": null,
   "id": "6cacd3b7",
   "metadata": {},
   "outputs": [],
   "source": []
  }
 ],
 "metadata": {
  "kernelspec": {
   "display_name": "Python 3 (ipykernel)",
   "language": "python",
   "name": "python3"
  },
  "language_info": {
   "codemirror_mode": {
    "name": "ipython",
    "version": 3
   },
   "file_extension": ".py",
   "mimetype": "text/x-python",
   "name": "python",
   "nbconvert_exporter": "python",
   "pygments_lexer": "ipython3",
   "version": "3.11.4"
  }
 },
 "nbformat": 4,
 "nbformat_minor": 5
}
